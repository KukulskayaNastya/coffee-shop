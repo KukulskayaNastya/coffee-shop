{
 "cells": [
  {
   "metadata": {},
   "cell_type": "markdown",
   "source": "",
   "id": "98934a1028b4111b"
  },
  {
   "metadata": {},
   "cell_type": "markdown",
   "source": "# Проект",
   "id": "fc3345afeac89476"
  },
  {
   "metadata": {
    "ExecuteTime": {
     "end_time": "2024-10-25T20:00:24.314125Z",
     "start_time": "2024-10-25T20:00:21.918383Z"
    }
   },
   "cell_type": "code",
   "source": [
    "import pandas as pd\n",
    "df = pd.read_excel('data/dataset.xlsx')"
   ],
   "id": "b6c299a6c5caa69d",
   "outputs": [],
   "execution_count": 20
  },
  {
   "metadata": {},
   "cell_type": "markdown",
   "source": "Определение столбцов с null-значениями и их количеством",
   "id": "44701348cf6bf814"
  },
  {
   "metadata": {
    "ExecuteTime": {
     "end_time": "2024-10-25T20:10:34.841853Z",
     "start_time": "2024-10-25T20:10:34.826807Z"
    }
   },
   "cell_type": "code",
   "source": [
    "null_columns = df.isnull().sum()\n",
    "null_columns\n"
   ],
   "id": "d1a0650dbc0ab9b0",
   "outputs": [
    {
     "data": {
      "text/plain": [
       "id                                                                    0\n",
       "target                                                               10\n",
       "Расстояние до метро                                                   0\n",
       "Суммарное кол-во отзывов в категории \"АЗС\" в радиусе 150м             0\n",
       "Суммарное кол-во отзывов в категории \"Алкомаркеты\" в радиусе 150м     0\n",
       "                                                                     ..\n",
       "Суммарный  трафик юзеров рабочих в радиусе 140м                       0\n",
       "Тип БЦ                                                                0\n",
       "Тип хаб                                                               0\n",
       "Тип улица                                                             0\n",
       "Тип ТЦ                                                                0\n",
       "Length: 2335, dtype: int64"
      ]
     },
     "execution_count": 28,
     "metadata": {},
     "output_type": "execute_result"
    }
   ],
   "execution_count": 28
  },
  {
   "metadata": {},
   "cell_type": "code",
   "outputs": [],
   "execution_count": null,
   "source": [
    "null_columns = null_columns[null_columns > 0].sort_values(ascending=False)\n",
    "null_columns"
   ],
   "id": "f4136fc30b341df0"
  },
  {
   "metadata": {
    "ExecuteTime": {
     "end_time": "2024-10-25T20:07:18.353488Z",
     "start_time": "2024-10-25T20:07:18.325775Z"
    }
   },
   "cell_type": "code",
   "source": [
    "null_column_first_words = null_columns.index.to_series().str.split().str[0]\n",
    "null_columns_by_first_word = null_columns.index.to_series().groupby(null_column_first_words).apply(list)\n",
    "null_columns_counts_by_first_word = null_column_first_words.value_counts()\n",
    "null_columns_counts_by_first_word"
   ],
   "id": "9f78713c59c6839b",
   "outputs": [
    {
     "data": {
      "text/plain": [
       "Среднее         378\n",
       "Средний         261\n",
       "Максимальный     72\n",
       "Средняя           5\n",
       "target            1\n",
       "Name: count, dtype: int64"
      ]
     },
     "execution_count": 26,
     "metadata": {},
     "output_type": "execute_result"
    }
   ],
   "execution_count": 26
  },
  {
   "metadata": {},
   "cell_type": "markdown",
   "source": "",
   "id": "849e706677da0"
  }
 ],
 "metadata": {
  "kernelspec": {
   "display_name": "Python 3",
   "language": "python",
   "name": "python3"
  },
  "language_info": {
   "codemirror_mode": {
    "name": "ipython",
    "version": 2
   },
   "file_extension": ".py",
   "mimetype": "text/x-python",
   "name": "python",
   "nbconvert_exporter": "python",
   "pygments_lexer": "ipython2",
   "version": "2.7.6"
  }
 },
 "nbformat": 4,
 "nbformat_minor": 5
}
